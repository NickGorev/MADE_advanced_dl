{
 "cells": [
  {
   "cell_type": "markdown",
   "metadata": {},
   "source": [
    "# Advanced DL and RL: Домашнее задание 1\n",
    "\n",
    "Николай Горев\n",
    "\n",
    "MADE-DS-32"
   ]
  },
  {
   "cell_type": "code",
   "execution_count": 1,
   "metadata": {},
   "outputs": [],
   "source": [
    "import gym\n",
    "from gym.envs import toy_text\n",
    "\n",
    "import numpy as np\n",
    "import random\n",
    "import matplotlib.pyplot as plt\n",
    "%matplotlib inline"
   ]
  },
  {
   "cell_type": "markdown",
   "metadata": {},
   "source": [
    "## Часть первая, с блекджеком и стратегиями"
   ]
  },
  {
   "cell_type": "markdown",
   "metadata": {},
   "source": [
    "**1.** Рассмотрим очень простую стратегию: говорить stand, если у нас на руках комбинация в 19, 20 или 21 очко, во всех остальных случаях говорить hit. Используйте методы Монте-Карло, чтобы оценить выигрыш от этой стратегии.\n"
   ]
  },
  {
   "cell_type": "code",
   "execution_count": 2,
   "metadata": {},
   "outputs": [],
   "source": [
    "env = gym.make('Blackjack-v0')"
   ]
  },
  {
   "cell_type": "code",
   "execution_count": 3,
   "metadata": {},
   "outputs": [],
   "source": [
    "def simpliest_strategy(sum_hand):\n",
    "    return sum_hand not in [19, 20, 21]"
   ]
  },
  {
   "cell_type": "code",
   "execution_count": 4,
   "metadata": {},
   "outputs": [],
   "source": [
    "def one_round():\n",
    "    env.reset()\n",
    "    sum_hand = 0\n",
    "    done = False\n",
    "    while not done:\n",
    "        action = simpliest_strategy(sum_hand)\n",
    "        observation, reward, done, info = env.step(action)\n",
    "        sum_hand = observation[0]\n",
    "    env.close()\n",
    "    return reward"
   ]
  },
  {
   "cell_type": "code",
   "execution_count": 5,
   "metadata": {},
   "outputs": [
    {
     "name": "stdout",
     "output_type": "stream",
     "text": [
      "\n",
      "Средний выигрыш: -0.436630\n"
     ]
    }
   ],
   "source": [
    "num_experiments = 100000\n",
    "total_reward = 0\n",
    "for _ in range(num_experiments):\n",
    "    total_reward += one_round()\n",
    "\n",
    "print(\"\\nСредний выигрыш: %.6f\" % (total_reward / num_experiments))"
   ]
  },
  {
   "cell_type": "markdown",
   "metadata": {},
   "source": [
    "**2.** Реализуйте метод обучения с подкреплением без модели (можно Q-обучение, но рекомендую попробовать и другие, например Monte Carlo control) для обучения стратегии в блекджеке, используя окружение Blackjack-v0 из OpenAI Gym."
   ]
  },
  {
   "cell_type": "code",
   "execution_count": 6,
   "metadata": {},
   "outputs": [],
   "source": [
    "class QLearningAgent:\n",
    "    def __init__(self, alpha, max_epsilon, gamma, environment, test_rounds=100000):\n",
    "\n",
    "        self.environment = environment\n",
    "        self.Qvalues = {}\n",
    "        self.n_actions = environment.action_space.n\n",
    "        self.alpha = alpha\n",
    "        self.max_epsilon = max_epsilon\n",
    "        self.epsilon = max_epsilon\n",
    "        self.gamma = gamma\n",
    "        self.test_rounds = test_rounds\n",
    "        \n",
    "    def get_Qs(self, state):\n",
    "        if state not in self.Qvalues:\n",
    "            self.Qvalues[state] = np.random.random(self.n_actions) * 2 - 1.\n",
    "        return self.Qvalues[state]\n",
    "\n",
    "    def get_V(self, state):\n",
    "        return np.max(self.get_Qs(state))\n",
    "\n",
    "    # Q(s,a) := Q(s,a) + alpha * (r + gamma * V(s') - Q(s,a))\n",
    "    def update(self, state, action, reward, next_state):\n",
    "        Q = self.get_Qs(state)[action]\n",
    "        if reward == 0:\n",
    "            V = self.get_V(next_state)\n",
    "        else:\n",
    "            V = 0\n",
    "        self.Qvalues[state][action] = Q + self.alpha * (reward + self.gamma * V - Q)\n",
    "\n",
    "    def get_best_action(self, state):\n",
    "        return np.argmax(self.get_Qs(state))\n",
    "\n",
    "    # epsilon-greedy action\n",
    "    def get_action(self, state):\n",
    "        if np.random.random() > self.epsilon:\n",
    "              return self.get_best_action(state)\n",
    "        else:\n",
    "              return random.choice(range(self.n_actions))\n",
    "            \n",
    "    def test_performance(self):\n",
    "        total_reward = 0\n",
    "        for _ in range(self.test_rounds):\n",
    "            s = self.environment.reset()\n",
    "            done = False\n",
    "            while not done:\n",
    "                action = self.get_best_action(s)\n",
    "                s, reward, done, info = self.environment.step(action)\n",
    "            total_reward += reward\n",
    "        return total_reward / self.test_rounds\n",
    "    \n",
    "    def train(self, t_max=1000000, perf_interval=100000):\n",
    "        performances = []\n",
    "        for t in range(t_max):\n",
    "            # изменяем параметр epsilon для epsilon-greedy action \n",
    "            # в начале обучения высокий exploration, в конце - низкий\n",
    "            self.epsilon = self.max_epsilon * (t_max - t) / t_max\n",
    "            \n",
    "            if t % perf_interval == 0:\n",
    "                performances.append((t, self.test_performance()))\n",
    "            s = self.environment.reset()\n",
    "            done = False\n",
    "            while not done:\n",
    "                action = self.get_action(s)\n",
    "                next_s, reward, done, info = self.environment.step(action)\n",
    "                self.update(s, action, reward, next_s)\n",
    "                s = next_s\n",
    "        return performances"
   ]
  },
  {
   "cell_type": "code",
   "execution_count": 7,
   "metadata": {},
   "outputs": [],
   "source": [
    "agent = QLearningAgent(alpha=0.01, max_epsilon=0.5, gamma=1, environment=gym.make('Blackjack-v0', natural=True))"
   ]
  },
  {
   "cell_type": "code",
   "execution_count": 8,
   "metadata": {},
   "outputs": [],
   "source": [
    "results = agent.train()"
   ]
  },
  {
   "cell_type": "markdown",
   "metadata": {},
   "source": [
    "**3.** Сколько выигрывает казино у вашей стратегии? Нарисуйте графики среднего дохода вашего метода (усреднённого по крайней мере по 100000 раздач, а лучше больше) по ходу обучения. Попробуйте подобрать оптимальные гиперпараметры."
   ]
  },
  {
   "cell_type": "code",
   "execution_count": 9,
   "metadata": {},
   "outputs": [],
   "source": [
    "def plot_results(results):\n",
    "    steps, rewards = [x[0] for x in results], [x[1] for x in results]\n",
    "    plt.plot(steps, rewards)\n",
    "    plt.grid()\n",
    "    plt.xlabel(\"Шаг обучения\")\n",
    "    plt.ylabel(\"Средний доход на одну игру\")\n",
    "    plt.title(\"Среднее по трем последним значениям {}\".format(np.mean(rewards[-3])))\n",
    "    plt.ylim(-0.5, 0.1)"
   ]
  },
  {
   "cell_type": "code",
   "execution_count": 10,
   "metadata": {},
   "outputs": [
    {
     "data": {
      "image/png": "[encoded data removed]",
      "text/plain": [
       "<Figure size 432x288 with 1 Axes>"
      ]
     },
     "metadata": {
      "needs_background": "light"
     },
     "output_type": "display_data"
    }
   ],
   "source": [
    "plot_results(results)"
   ]
  },
  {
   "cell_type": "markdown",
   "metadata": {},
   "source": [
    "## Часть вторая, удвоенная\n",
    "В базовый блекджек, описанный в предыдущем разделе, обыграть казино вряд ли получится. Но, к счастью, на этом история не заканчивается. Описанные выше правила были упрощёнными, а на самом деле у игрока есть ещё и другие возможности. Реализовывать split может оказаться непросто, поэтому давайте ограничимся удвоением ставки. Итак, у игрока появляется дополнительное действие:\n",
    "- double — удвоить ставку; при этом больше действий делать нельзя, игроку выдаётся ровно одна дополнительная карта, а выигрыш или проигрыш удваивается."
   ]
  },
  {
   "cell_type": "markdown",
   "metadata": {},
   "source": [
    "**4.** Реализуйте новый вариант блекджека на основе окружения Blackjack-v0 из OpenAI Gym, в котором разрешено удвоение ставки.\n"
   ]
  },
  {
   "cell_type": "code",
   "execution_count": 11,
   "metadata": {},
   "outputs": [],
   "source": [
    "class BlackJackWithDoubling(toy_text.BlackjackEnv):\n",
    "    def __init__(self, natural=False):\n",
    "        super().__init__(natural)\n",
    "        self.action_space = gym.spaces.Discrete(3)\n",
    "        \n",
    "    def step(self, action):\n",
    "        if action == 2:\n",
    "            s, reward, done, info = super().step(1)\n",
    "            if done:\n",
    "                return s, reward * 2, done, info\n",
    "            s, reward, done, info = super().step(0)\n",
    "            return s, reward * 2, done, info\n",
    "        return super().step(action)        "
   ]
  },
  {
   "cell_type": "markdown",
   "metadata": {},
   "source": [
    "**5.** Реализуйте метод обучения с подкреплением без модели для этого варианта, постройте графики, аналогичные п.2.\n"
   ]
  },
  {
   "cell_type": "code",
   "execution_count": 12,
   "metadata": {},
   "outputs": [],
   "source": [
    "agent2 = QLearningAgent(alpha=0.01, max_epsilon=0.5, gamma=1, environment=BlackJackWithDoubling(natural=True))\n",
    "results = agent2.train()"
   ]
  },
  {
   "cell_type": "code",
   "execution_count": 13,
   "metadata": {},
   "outputs": [
    {
     "data": {
      "image/png": "[encoded data removed]",
      "text/plain": [
       "<Figure size 432x288 with 1 Axes>"
      ]
     },
     "metadata": {
      "needs_background": "light"
     },
     "output_type": "display_data"
    }
   ],
   "source": [
    "plot_results(results)"
   ]
  },
  {
   "cell_type": "markdown",
   "metadata": {},
   "source": [
    "## Часть третья\n",
    "А теперь давайте вспомним, как играют в блекджек настоящие профессионалы. Дело в том, что в оффлайн-казино обычно не перемешивают колоду после каждой раздачи — это слишком замедляло бы игру. После раздачи карты просто раздаются дальше с верха колоды до тех пор, пока карт не останется слишком мало, и только тогда колода перемешивается; давайте для определённости считать, что наше казино будет перемешивать колоду, в которой осталось меньше 15 карт.\n",
    "\n",
    "Действительно, если вы будете запоминать, какие карты уже вышли, у вас будет информация о том, какие карты ещё остались, а это позволяет лучше понять, когда нужно удваивать ставку или делать split, а когда лучше не стоит. В настоящем казино могут раздавать карты сразу из нескольких колод, и заслуга Rain Man’а была в том, что он смог считать карты в шести колодах одновременно. Но мы с вами вооружены компьютерами, так что подсчёт можно считать автоматическим."
   ]
  },
  {
   "cell_type": "markdown",
   "metadata": {},
   "source": [
    "**6.** Реализуйте вариант окружения Blackjack-v0 из предыдущей части (с удвоением), в котором игрок имеет возможность “считать карты” в колоде. Это можно сделать разными способами; возможно, вам поможет статья википедии о блекджеке (а возможно, и нет).\n"
   ]
  },
  {
   "cell_type": "markdown",
   "metadata": {},
   "source": [
    "Будем использовать систему подсчёта [«Плюс-минус»](https://ru.wikipedia.org/wiki/%D0%91%D0%BB%D1%8D%D0%BA%D0%B4%D0%B6%D0%B5%D0%BA).\n",
    "\n",
    "Каждой карте, выходящей из колоды, присваивается своё числовое значение:\n",
    "\n",
    "| Карты          | Числовые значения |\n",
    "|:-------------- |:-----------------:|\n",
    "| 2, 3, 4, 5, 6  |         +1        |\n",
    "| 7, 8, 9        |          0        |\n",
    "| 10, В, Д, К, Т |         -1        |\n",
    "\n"
   ]
  },
  {
   "cell_type": "code",
   "execution_count": 14,
   "metadata": {},
   "outputs": [],
   "source": [
    "# Веса для подсчета карт по системе плюс-минус\n",
    "cardWeight = {1: -1, 2: 1, 3: 1, 4: 1, 5: 1, 6: 1, 7: 0, 8: 0, 9: 0, 10: -1}\n",
    "\n",
    "def cmp(a, b):\n",
    "    return float(a > b) - float(a < b)\n",
    "\n",
    "def usable_ace(hand):  # Does this hand have a usable ace?\n",
    "    return 1 in hand and sum(hand) + 10 <= 21\n",
    "\n",
    "\n",
    "def sum_hand(hand):  # Return current hand total\n",
    "    if usable_ace(hand):\n",
    "        return sum(hand) + 10\n",
    "    return sum(hand)\n",
    "\n",
    "\n",
    "def is_bust(hand):  # Is this hand a bust?\n",
    "    return sum_hand(hand) > 21\n",
    "\n",
    "\n",
    "def score(hand):  # What is the score of this hand (0 if bust)\n",
    "    return 0 if is_bust(hand) else sum_hand(hand)\n",
    "\n",
    "\n",
    "def is_natural(hand):  # Is this hand a natural blackjack?\n",
    "    return sorted(hand) == [1, 10]\n",
    "\n",
    "\n",
    "class BlackJackWithCounting(gym.Env):\n",
    "    def __init__(self, natural=False):\n",
    "        self.action_space = gym.spaces.Discrete(3)\n",
    "        self.seed()\n",
    "        \n",
    "        self.natural = natural\n",
    "        \n",
    "        self.deck = []\n",
    "        self.cardsCounter = 0\n",
    "        \n",
    "\n",
    "        # Start the first game\n",
    "        self.reset()\n",
    "\n",
    "    def seed(self, seed=None):\n",
    "        self.np_random, seed = gym.utils.seeding.np_random(seed)\n",
    "        return [seed]\n",
    "    \n",
    "    # Восстановление полной колоды\n",
    "    def reset_deck(self):\n",
    "        # 1 = Ace, 2-10 = Number cards, Jack/Queen/King = 10\n",
    "        self.deck = [1, 2, 3, 4, 5, 6, 7, 8, 9, 10, 10, 10, 10,\n",
    "                     1, 2, 3, 4, 5, 6, 7, 8, 9, 10, 10, 10, 10,\n",
    "                     1, 2, 3, 4, 5, 6, 7, 8, 9, 10, 10, 10, 10,\n",
    "                     1, 2, 3, 4, 5, 6, 7, 8, 9, 10, 10, 10, 10]\n",
    "\n",
    "    def draw_card(self, np_random):\n",
    "        # выбираем случайную карту и удаляем ее из колоды\n",
    "        index = np_random.choice(range(len(self.deck)))\n",
    "        return int(self.deck.pop(index))\n",
    "\n",
    "    def draw_hand(self, np_random):\n",
    "        return [self.draw_card(np_random), self.draw_card(np_random)]\n",
    "\n",
    "    def step(self, action):\n",
    "        assert self.action_space.contains(action)\n",
    "        if action == 2: #double\n",
    "            s, reward, done, _ = self.step(1)\n",
    "            if not done:\n",
    "                s, reward, done, _ = self.step(0)\n",
    "            reward *= 2\n",
    "        elif action == 1:  # hit: add a card to players hand and return\n",
    "            card = self.draw_card(self.np_random)\n",
    "            self.cardsCounter += cardWeight[card] \n",
    "            self.player.append(card)\n",
    "            if is_bust(self.player):\n",
    "                done = True\n",
    "                reward = -1.\n",
    "                self.cardsCounter += cardWeight[self.dealer[1]] \n",
    "            else:\n",
    "                done = False\n",
    "                reward = 0.\n",
    "        else:  # stick: play out the dealers hand, and score\n",
    "            done = True\n",
    "            while sum_hand(self.dealer) < 17:\n",
    "                self.dealer.append(self.draw_card(self.np_random))\n",
    "            reward = cmp(score(self.player), score(self.dealer))\n",
    "            if self.natural and is_natural(self.player) and reward == 1.:\n",
    "                reward = 1.5\n",
    "                \n",
    "            # предполагаем, что в конце игры дилер открывает все свои карты\n",
    "            for card in self.dealer[1:]:\n",
    "                self.cardsCounter += cardWeight[card] \n",
    "                \n",
    "        return self._get_obs(), reward, done, {}\n",
    "\n",
    "    def _get_obs(self):\n",
    "        return (sum_hand(self.player), self.dealer[0], usable_ace(self.player), self.cardsCounter)\n",
    "\n",
    "    def reset(self):\n",
    "        # если в колоде осталось меньше 15 карт, \n",
    "        # восстанавливаем колоду и сбрасываем счетчик карт\n",
    "        if len(self.deck) < 15:\n",
    "            self.reset_deck()\n",
    "            self.cardsCounter = 0\n",
    "            \n",
    "        self.dealer = self.draw_hand(self.np_random)\n",
    "        \n",
    "        # в начале игры дилер открывает только одну карту\n",
    "        self.cardsCounter += cardWeight[self.dealer[0]] \n",
    "\n",
    "        self.player = self.draw_hand(self.np_random)\n",
    "        \n",
    "        self.cardsCounter += cardWeight[self.player[0]] \n",
    "        self.cardsCounter += cardWeight[self.player[1]] \n",
    "        \n",
    "        return self._get_obs()"
   ]
  },
  {
   "cell_type": "markdown",
   "metadata": {},
   "source": [
    "**7.** Реализуйте метод обучения с подкреплением без модели для этого варианта, постройте графики, аналогичные п.2.\n"
   ]
  },
  {
   "cell_type": "code",
   "execution_count": 15,
   "metadata": {},
   "outputs": [],
   "source": [
    "env = BlackJackWithCounting(natural=True)\n",
    "agent3 = QLearningAgent(alpha=0.001, max_epsilon=0.5, gamma=1, environment=env)"
   ]
  },
  {
   "cell_type": "markdown",
   "metadata": {},
   "source": [
    "Чтобы ускорить обучение, скопируем значения функции Q из предыдущей задачи. Затем будем дообучать с использованием подсчета карт в колоде.\n",
    "\n",
    "В окружении BlackJackWithCounting - первые три элемента состояния среды совпадают с предыдущей задачей, а последний элемент - целое число в интервале -10...10 - равно текущему значению оценки разыгранных карт."
   ]
  },
  {
   "cell_type": "code",
   "execution_count": 16,
   "metadata": {},
   "outputs": [],
   "source": [
    "# s - состояние среды из предыдущей задачи\n",
    "for s, Q in agent2.Qvalues.items():\n",
    "    for i in range(-10, 11):\n",
    "        s_new = s + (i,) # s_new - состояние среды новой задачи\n",
    "        agent3.Qvalues[s_new] = Q[:]"
   ]
  },
  {
   "cell_type": "code",
   "execution_count": 17,
   "metadata": {},
   "outputs": [
    {
     "data": {
      "image/png": "[encoded data removed]",
      "text/plain": [
       "<Figure size 432x288 with 1 Axes>"
      ]
     },
     "metadata": {
      "needs_background": "light"
     },
     "output_type": "display_data"
    }
   ],
   "source": [
    "results = agent3.train()\n",
    "plot_results(results)"
   ]
  },
  {
   "cell_type": "markdown",
   "metadata": {},
   "source": [
    "**Заключение**\n",
    "\n",
    "Несмотря на все предпринятые ухищрения, победить казино не удалось."
   ]
  },
  {
   "cell_type": "code",
   "execution_count": null,
   "metadata": {},
   "outputs": [],
   "source": []
  }
 ],
 "metadata": {
  "kernelspec": {
   "display_name": "Python 3",
   "language": "python",
   "name": "python3"
  },
  "language_info": {
   "codemirror_mode": {
    "name": "ipython",
    "version": 3
   },
   "file_extension": ".py",
   "mimetype": "text/x-python",
   "name": "python",
   "nbconvert_exporter": "python",
   "pygments_lexer": "ipython3",
   "version": "3.7.6"
  }
 },
 "nbformat": 4,
 "nbformat_minor": 4
}
