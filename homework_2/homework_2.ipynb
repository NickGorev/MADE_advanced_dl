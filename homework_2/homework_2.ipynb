{
 "cells": [
  {
   "cell_type": "markdown",
   "metadata": {},
   "source": [
    "# Advanced DL and RL: Домашнее задание 2\n",
    "\n",
    "Николай Горев\n",
    "\n",
    "MADE-DS-32"
   ]
  },
  {
   "cell_type": "code",
   "execution_count": 1,
   "metadata": {},
   "outputs": [],
   "source": [
    "import numpy as np\n",
    "import random\n",
    "import copy\n",
    "\n",
    "import matplotlib.pyplot as plt\n",
    "%matplotlib inline\n",
    "\n",
    "import torch\n",
    "import torch.nn as nn\n",
    "from torch.utils.data import Dataset\n",
    "\n",
    "from ttt import TicTacToe"
   ]
  },
  {
   "cell_type": "code",
   "execution_count": 2,
   "metadata": {},
   "outputs": [
    {
     "data": {
      "text/plain": [
       "<torch._C.Generator at 0x17511c6e230>"
      ]
     },
     "execution_count": 2,
     "metadata": {},
     "output_type": "execute_result"
    }
   ],
   "source": [
    "seed = 42\n",
    "random.seed(seed)\n",
    "np.random.seed(seed)\n",
    "torch.manual_seed(seed)"
   ]
  },
  {
   "cell_type": "markdown",
   "metadata": {},
   "source": [
    "### Часть первая: крестики-нолики при помощи Q-обучения\n",
    "\n",
    "В коде, прилагающемся к последней лекции про обучение с подкреплением, реализован Environment для крестиков-ноликов, в котором можно при инициализации указывать разные размеры доски и условия победы, а также функции для рисования, в том числе с указанием оценки различных действий. С этим окружением все задания и связаны.\n",
    "\n",
    "1.\tРеализуйте обычное (табличное) Q-обучение. Обучите стратегии крестиков и ноликов для доски 3х3.\n",
    "2.\tПопробуйте обучить стратегии крестиков и ноликов для доски 4х4 и/или 5х5.\n",
    "\n",
    "**Disclaimer:** начиная с пункта 2, задания для досок размера больше 4х4 могут потребовать большого терпения или более сложных вычислительных реализаций (например, параллелизации). Не хочу в этом задании непременно требовать ни того ни другого, так что если не будет получаться доучить до победных стратегий, не страшно -- но покажите, что со временем что-то всё-таки улучшается.\n"
   ]
  },
  {
   "cell_type": "code",
   "execution_count": 3,
   "metadata": {},
   "outputs": [],
   "source": [
    "env_333 = TicTacToe(n_rows=3, n_cols=3, n_win=3)"
   ]
  },
  {
   "cell_type": "code",
   "execution_count": 4,
   "metadata": {},
   "outputs": [],
   "source": [
    "def inv_state(s):\n",
    "    return ''.join([str(2 - int(n)) for n in s])"
   ]
  },
  {
   "cell_type": "code",
   "execution_count": 5,
   "metadata": {},
   "outputs": [],
   "source": [
    "class randomAgent(object):\n",
    "    def __init__(self):\n",
    "        self.index_best_action = True\n",
    "        pass\n",
    "\n",
    "    def get_best_action(self, state, n_actions=None):\n",
    "        if n_actions is None:\n",
    "            n_actions = np.sum(np.array(list(state)) == '1')\n",
    "        return np.random.randint(n_actions)"
   ]
  },
  {
   "cell_type": "code",
   "execution_count": 6,
   "metadata": {},
   "outputs": [],
   "source": [
    "random_agent = randomAgent()"
   ]
  },
  {
   "cell_type": "code",
   "execution_count": 7,
   "metadata": {},
   "outputs": [],
   "source": [
    "def test_one_game(env, pi_crosses, pi_naughts):\n",
    "    done = False\n",
    "    env.reset()\n",
    "    while not done:\n",
    "        s, actions = env.getHash(), env.getEmptySpaces()\n",
    "        n_actions = len(actions)\n",
    "        if env.curTurn == 1:\n",
    "            if pi_crosses.index_best_action:\n",
    "                a = actions[pi_crosses.get_best_action(s, n_actions)]\n",
    "            else:\n",
    "                a = pi_crosses.get_best_action(s)\n",
    "        else:\n",
    "            if pi_naughts.index_best_action:\n",
    "                a = actions[pi_naughts.get_best_action(inv_state(s), n_actions)]\n",
    "            else:\n",
    "                a = pi_naughts.get_best_action(inv_state(s))\n",
    "        observation, reward, done, info = env.step(a)\n",
    "        if reward < -1:\n",
    "            print(\"Ход в занятую клетку\")\n",
    "    return reward"
   ]
  },
  {
   "cell_type": "code",
   "execution_count": 8,
   "metadata": {},
   "outputs": [],
   "source": [
    "def test_perf(env, pi_crosses, pi_naughts, num_games=1000):\n",
    "    crosses_wins = 0\n",
    "    naughts_wins = 0\n",
    "    for _ in range(num_games):\n",
    "        reward = test_one_game(env, pi_crosses, pi_naughts)\n",
    "        if reward == 1:\n",
    "            crosses_wins += 1\n",
    "        elif reward == -1:\n",
    "            naughts_wins += 1\n",
    "    return crosses_wins / num_games, naughts_wins / num_games"
   ]
  },
  {
   "cell_type": "code",
   "execution_count": 9,
   "metadata": {},
   "outputs": [
    {
     "data": {
      "text/plain": [
       "(0.59, 0.284)"
      ]
     },
     "execution_count": 9,
     "metadata": {},
     "output_type": "execute_result"
    }
   ],
   "source": [
    "test_perf(env_333, random_agent, random_agent)"
   ]
  },
  {
   "cell_type": "code",
   "execution_count": 10,
   "metadata": {},
   "outputs": [],
   "source": [
    "class QLearningAgent:\n",
    "    def __init__(self, alpha, gamma):\n",
    "        self.index_best_action = True\n",
    "\n",
    "        self.Qvalues = {}\n",
    "        self.alpha = alpha\n",
    "        self.gamma = gamma\n",
    "        \n",
    "    def get_n_actions(self, state):\n",
    "        return np.sum(np.array(list(state)) == '1')        \n",
    "        \n",
    "    def get_Qs(self, state, n_actions=None):\n",
    "        if state not in self.Qvalues:\n",
    "            if n_actions is None:\n",
    "                n_actions = self.get_n_actions(state)\n",
    "            #self.Qvalues[state] = np.zeros(n_actions)\n",
    "            self.Qvalues[state] = np.random.random(n_actions) * 0.01 - 0.005\n",
    "        return self.Qvalues[state]\n",
    "\n",
    "    def get_V(self, state):\n",
    "        return np.max(self.get_Qs(state))\n",
    "\n",
    "    # Q(s,a) := Q(s,a) + alpha * (r + gamma * V(s') - Q(s,a))\n",
    "    def update(self, state, n_action, reward, next_state):\n",
    "        Q = self.get_Qs(state)[n_action]\n",
    "        if next_state is None:\n",
    "            V = 0\n",
    "        else:\n",
    "            V = self.get_V(next_state)\n",
    "            \n",
    "        self.Qvalues[state][n_action] = Q + self.alpha * (reward + self.gamma * V - Q)\n",
    "\n",
    "    def get_best_action(self, state, n_actions=None):\n",
    "        return np.argmax(self.get_Qs(state, n_actions))\n",
    "\n",
    "    # epsilon-greedy action\n",
    "    def get_action(self, state, epsilon, n_actions=None):\n",
    "        if np.random.random() > epsilon:\n",
    "            return self.get_best_action(state, n_actions)\n",
    "        else:\n",
    "            if n_actions is None:\n",
    "                n_actions = self.get_n_actions(state)\n",
    "            return np.random.randint(n_actions)"
   ]
  },
  {
   "cell_type": "code",
   "execution_count": 11,
   "metadata": {},
   "outputs": [],
   "source": [
    "def QL_train(env, QL_agent, max_epsilon, t_max, perf_interval):\n",
    "    performances_crosses = []\n",
    "    performances_naughts = []\n",
    "    for t in range(t_max):\n",
    "        \n",
    "        epsilon = max_epsilon * (t_max - t) / t_max\n",
    "\n",
    "        if t % perf_interval == 0:\n",
    "            p, _ = test_perf(env, QL_agent, random_agent)\n",
    "            performances_crosses.append((t, p))\n",
    "            _, p = test_perf(env, random_agent, QL_agent)\n",
    "            performances_naughts.append((t, p))\n",
    "            \n",
    "        done = False\n",
    "        env.reset()\n",
    "\n",
    "        state_0, actions_0 = env.getHash(), env.getEmptySpaces()\n",
    "        n_action_0 = QL_agent.get_action(state_0, epsilon, len(actions_0))\n",
    "        observation, reward, done, info = env.step(actions_0[n_action_0])\n",
    "        state_1, actions_1 = observation[0], observation[1]\n",
    "        curTurn = env.curTurn\n",
    "        state_1 = inv_state(state_1)\n",
    "        while not done:\n",
    "            n_action_1 = QL_agent.get_action(state_1, epsilon, len(actions_1))\n",
    "            observation, reward, done, info = env.step(actions_1[n_action_1])\n",
    "            if done: \n",
    "                QL_agent.update(state_0, n_action_0, -reward * curTurn, None)\n",
    "                QL_agent.update(state_1, n_action_1, reward * curTurn, None)\n",
    "                break\n",
    "\n",
    "            next_state = observation[0]\n",
    "            curTurn = env.curTurn\n",
    "            if curTurn == -1:\n",
    "                next_state = inv_state(next_state)\n",
    "                \n",
    "            QL_agent.update(state_0, n_action_0, reward, next_state)\n",
    "            state_0, actions_0 = state_1, actions_1\n",
    "            state_1, actions_1 = next_state, observation[1]\n",
    "            n_action_0 = n_action_1\n",
    "            \n",
    "    return performances_crosses, performances_naughts"
   ]
  },
  {
   "cell_type": "code",
   "execution_count": 12,
   "metadata": {},
   "outputs": [],
   "source": [
    "alpha = 0.1\n",
    "gamma = 1.\n",
    "QL_agent_333 = QLearningAgent(alpha, gamma)"
   ]
  },
  {
   "cell_type": "code",
   "execution_count": 13,
   "metadata": {},
   "outputs": [],
   "source": [
    "max_epsilon = 0.5\n",
    "t_max = 100000\n",
    "perf_interval = t_max // 10\n",
    "performances_crosses, performances_naughts = QL_train(env_333, \n",
    "                                                      QL_agent_333, \n",
    "                                                      max_epsilon,\n",
    "                                                      t_max, \n",
    "                                                      perf_interval)"
   ]
  },
  {
   "cell_type": "code",
   "execution_count": 14,
   "metadata": {},
   "outputs": [
    {
     "name": "stdout",
     "output_type": "stream",
     "text": [
      "(0.92, 0.0)\n",
      "(0.016, 0.822)\n",
      "(0.0, 0.0)\n"
     ]
    }
   ],
   "source": [
    "print(test_perf(env_333, QL_agent_333, random_agent))\n",
    "print(test_perf(env_333, random_agent, QL_agent_333))\n",
    "print(test_perf(env_333, QL_agent_333, QL_agent_333))"
   ]
  },
  {
   "cell_type": "code",
   "execution_count": 15,
   "metadata": {},
   "outputs": [],
   "source": [
    "def plot_results(performances_crosses, performances_naughts):\n",
    "    steps = [x[0] for x in performances_crosses]\n",
    "    rewards_crosses = [x[1] for x in performances_crosses]\n",
    "    rewards_naughts = [x[1] for x in performances_naughts]\n",
    "    plt.plot(steps, rewards_crosses, label='x')\n",
    "    plt.plot(steps, rewards_naughts, label='o')\n",
    "    plt.grid()\n",
    "    plt.xlabel(\"Шаг обучения\")\n",
    "    plt.ylabel(\"Доля выигрышей\")\n",
    "    plt.title(\"Игры против игрока со случайными ходами\")\n",
    "    plt.legend()\n",
    "    plt.ylim(0, 1.1)"
   ]
  },
  {
   "cell_type": "code",
   "execution_count": 16,
   "metadata": {},
   "outputs": [
    {
     "data": {
      "image/png": "[encoded data removed]",
      "text/plain": [
       "<Figure size 432x288 with 1 Axes>"
      ]
     },
     "metadata": {
      "needs_background": "light"
     },
     "output_type": "display_data"
    }
   ],
   "source": [
    "plot_results(performances_crosses, performances_naughts)"
   ]
  },
  {
   "cell_type": "markdown",
   "metadata": {},
   "source": [
    "### 4x4x4 Q-learning"
   ]
  },
  {
   "cell_type": "code",
   "execution_count": 17,
   "metadata": {},
   "outputs": [
    {
     "data": {
      "text/plain": [
       "(0.325, 0.228)"
      ]
     },
     "execution_count": 17,
     "metadata": {},
     "output_type": "execute_result"
    }
   ],
   "source": [
    "env_444 = TicTacToe(n_rows=4, n_cols=4, n_win=4)\n",
    "test_perf(env_444, random_agent, random_agent)"
   ]
  },
  {
   "cell_type": "code",
   "execution_count": 18,
   "metadata": {},
   "outputs": [],
   "source": [
    "alpha = 0.05\n",
    "gamma = 1.\n",
    "QL_agent_444 = QLearningAgent(alpha, gamma)"
   ]
  },
  {
   "cell_type": "code",
   "execution_count": 19,
   "metadata": {},
   "outputs": [
    {
     "data": {
      "image/png": "[encoded data removed]",
      "text/plain": [
       "<Figure size 432x288 with 1 Axes>"
      ]
     },
     "metadata": {
      "needs_background": "light"
     },
     "output_type": "display_data"
    }
   ],
   "source": [
    "max_epsilon = 0.5\n",
    "t_max = 1000000\n",
    "perf_interval = t_max // 10\n",
    "performances_crosses, performances_naughts = QL_train(env_444, \n",
    "                                                      QL_agent_444, \n",
    "                                                      max_epsilon,\n",
    "                                                      t_max,\n",
    "                                                      perf_interval\n",
    "                                                     )\n",
    "plot_results(performances_crosses, performances_naughts)"
   ]
  },
  {
   "cell_type": "code",
   "execution_count": 20,
   "metadata": {},
   "outputs": [
    {
     "name": "stdout",
     "output_type": "stream",
     "text": [
      "(0.519, 0.148)\n",
      "(0.272, 0.302)\n",
      "(0.0, 0.0)\n"
     ]
    }
   ],
   "source": [
    "print(test_perf(env_444, QL_agent_444, random_agent))\n",
    "print(test_perf(env_444, random_agent, QL_agent_444))\n",
    "print(test_perf(env_444, QL_agent_444, QL_agent_444))"
   ]
  },
  {
   "cell_type": "markdown",
   "metadata": {},
   "source": [
    "### Часть вторая: добавим нейронных сетей\n",
    "Реализуйте нейронную сеть для метода DQN на доске для крестиков-ноликов. Не буду ограничивать фантазию, но кажется, что свёртки 3х3 здесь должны неплохо работать (в том числе обобщаться на доски размера побольше).\n",
    "\n",
    "3.\tРеализуйте DQN с нейронной сетью, обучите стратегии крестиков и ноликов. Замечание: скорее всего, experience replay потребуется сразу же.\n",
    "4.\tРеализуйте Double DQN и/или Dueling DQN.\n"
   ]
  },
  {
   "cell_type": "code",
   "execution_count": 21,
   "metadata": {},
   "outputs": [],
   "source": [
    "class ReplayBufferSet(Dataset):\n",
    "    def __init__(self, length, environment):\n",
    "        self.len = length\n",
    "        self.env = environment\n",
    "        \n",
    "        self.store_index = 0\n",
    "        \n",
    "        self.s = np.zeros((length, 2, environment.n_rows, environment.n_cols))\n",
    "        self.a = np.zeros((length, 2))\n",
    "        self.r = np.zeros(length)\n",
    "        self.done = np.zeros(length)\n",
    "        self.next_s = np.zeros((length, 2, environment.n_rows, environment.n_cols))\n",
    "        \n",
    "        counter = 0\n",
    "        while counter < length:\n",
    "            self.env.reset()\n",
    "            state_0 = copy.deepcopy(self.env.board)\n",
    "            actions_0 = self.env.getEmptySpaces()\n",
    "            action_0 = random.choice(actions_0)\n",
    "            observation, reward, done, info = self.env.step(action_0)\n",
    "            curTurn = self.env.curTurn\n",
    "            state_1 = copy.deepcopy(self.env.board) * curTurn\n",
    "            actions_1 = observation[1]\n",
    "            while not done:\n",
    "                action_1 = random.choice(actions_1)\n",
    "                observation, reward, done, info = self.env.step(action_1)\n",
    "\n",
    "                curTurn = self.env.curTurn\n",
    "                next_state = copy.deepcopy(self.env.board) * curTurn\n",
    "                \n",
    "                if done: \n",
    "                    self.s[counter, 0, :, :] = state_0 == 1\n",
    "                    self.s[counter, 1, :, :] = state_0 == -1\n",
    "                    self.a[counter, :] = action_0\n",
    "                    self.r[counter] = reward * curTurn\n",
    "                    self.done[counter] = done\n",
    "                    self.next_s[counter, 0, :, :] = next_state == 1\n",
    "                    self.next_s[counter, 1, :, :] = next_state == -1\n",
    "                    counter += 1\n",
    "                    if counter >= length:\n",
    "                        break\n",
    "                    self.s[counter, 0, :, :] = state_1 == 1\n",
    "                    self.s[counter, 1, :, :] = state_1 == -1\n",
    "                    self.a[counter, :] = action_1\n",
    "                    self.r[counter] = -reward * curTurn\n",
    "                    self.done[counter] = done\n",
    "                    self.next_s[counter, 0, :, :] = next_state == 1\n",
    "                    self.next_s[counter, 1, :, :] = next_state == -1\n",
    "                    counter += 1\n",
    "                    break\n",
    "                else:\n",
    "                    self.s[counter, 0, :, :] = state_0 == 1\n",
    "                    self.s[counter, 1, :, :] = state_0 == -1\n",
    "                    self.a[counter, :] = action_0\n",
    "                    self.r[counter] = 0\n",
    "                    self.done[counter] = done\n",
    "                    self.next_s[counter, 0, :, :] = next_state == 1\n",
    "                    self.next_s[counter, 1, :, :] = next_state == -1\n",
    "                    counter += 1\n",
    "\n",
    "                if counter >= length:\n",
    "                    break\n",
    "\n",
    "                state_0, actions_0 = state_1, actions_1\n",
    "                state_1, actions_1 = next_state, observation[1]\n",
    "                action_0 = action_1    \n",
    "\n",
    "        self.s = torch.from_numpy(self.s).float()\n",
    "        self.next_s = torch.from_numpy(self.next_s).float()\n",
    "\n",
    "    def __getitem__(self, index):\n",
    "        a = self.a[index]\n",
    "        r = self.r[index]\n",
    "        done = self.done[index]\n",
    "\n",
    "        if type(index) == slice:\n",
    "            index = range(self.len)[index]\n",
    "        index = torch.from_numpy(np.array(index)).long()\n",
    "\n",
    "        s = torch.index_select(self.s, 0, index)\n",
    "        next_s = torch.index_select(self.next_s, 0, index)\n",
    "\n",
    "        return {'s': s, 'a': a, 'r': r, 'done': done, 'next_s': next_s}\n",
    "    \n",
    "    def __len__(self):\n",
    "        return self.len\n",
    "    \n",
    "    def store(self, s, a, r, done, next_s):\n",
    "        self.s[self.store_index, :, :, :] = s\n",
    "        self.a[self.store_index, :] = a\n",
    "        self.r[self.store_index] = r\n",
    "        self.done[self.store_index] = done\n",
    "        self.next_s[self.store_index, :, :, :] = next_s\n",
    "        self.store_index = (self.store_index + 1) % self.len"
   ]
  },
  {
   "cell_type": "code",
   "execution_count": 22,
   "metadata": {},
   "outputs": [],
   "source": [
    "replay_buffer_333 = ReplayBufferSet(10000, env_333)"
   ]
  },
  {
   "cell_type": "code",
   "execution_count": 23,
   "metadata": {},
   "outputs": [],
   "source": [
    "# трехслойная сверточная сеть\n",
    "class Conv3net(nn.Module):\n",
    "    def __init__(self, n_hid_channels=16):\n",
    "        super().__init__()\n",
    "        \n",
    "        self.conv_1 = nn.Conv2d(in_channels=2,\n",
    "                              out_channels=n_hid_channels,\n",
    "                              kernel_size=3,\n",
    "                              padding=1\n",
    "                              )\n",
    "        \n",
    "        self.activation_1 = nn.ReLU()\n",
    "        \n",
    "        self.conv_2 = nn.Conv2d(in_channels=n_hid_channels,\n",
    "                              out_channels=n_hid_channels,\n",
    "                              kernel_size=3,\n",
    "                              padding=1\n",
    "                              )\n",
    "\n",
    "        self.activation_2 = nn.ReLU()\n",
    "        \n",
    "        self.conv_3 = nn.Conv2d(in_channels=n_hid_channels,\n",
    "                              out_channels=1,\n",
    "                              kernel_size=3,\n",
    "                              padding=1\n",
    "                              )\n",
    "        \n",
    "        self.activation_3 = nn.Tanh()\n",
    "\n",
    "    def forward(self, x):\n",
    "        x = self.conv_1(x)\n",
    "        x = self.activation_1(x)\n",
    "        x = self.conv_2(x)\n",
    "        x = self.activation_2(x)\n",
    "        x = self.conv_3(x)\n",
    "        x = self.activation_3(x)\n",
    "        return x"
   ]
  },
  {
   "cell_type": "code",
   "execution_count": 24,
   "metadata": {},
   "outputs": [],
   "source": [
    "class DQNAgent(object):\n",
    "    def __init__(self, environment):\n",
    "        self.index_best_action = False\n",
    "        self.net = Conv3net()\n",
    "        self.env = environment\n",
    "        \n",
    "    def board2matrix(self, board):\n",
    "        crosses = torch.FloatTensor(board == 1)\n",
    "        naughts = torch.FloatTensor(board == -1)\n",
    "        actions = torch.FloatTensor(board == 0)\n",
    "        m = torch.stack((crosses, naughts))\n",
    "        return m, actions\n",
    "\n",
    "    # epsilon-greedy action\n",
    "    def get_action_from_board(self, board, epsilon):\n",
    "        if np.random.random() > epsilon:\n",
    "            m, actions = self.board2matrix(board)\n",
    "            r = torch.squeeze(self.net(torch.unsqueeze(m, 0)))\n",
    "            idx = torch.argmax(r - (1 - actions) * 100)\n",
    "            return self.env.action_from_int(idx)\n",
    "        else:\n",
    "            r, c = np.where(board == 0)\n",
    "            r_idx = np.random.randint(len(r))\n",
    "            return r[r_idx], c[r_idx]\n",
    "        \n",
    "    def get_best_action(self, s):\n",
    "        board = np.array([float(n) for n in s]).reshape(\n",
    "            (self.env.n_rows, self.env.n_cols))\n",
    "        m, actions = self.board2matrix(board - 1)\n",
    "        r = torch.squeeze(self.net(torch.unsqueeze(m, 0)))\n",
    "        idx = torch.argmax(r - (1 - actions) * 100)\n",
    "        return self.env.action_from_int(idx)"
   ]
  },
  {
   "cell_type": "code",
   "execution_count": 25,
   "metadata": {},
   "outputs": [],
   "source": [
    "DQN_agent_333 = DQNAgent(env_333)"
   ]
  },
  {
   "cell_type": "code",
   "execution_count": 26,
   "metadata": {},
   "outputs": [],
   "source": [
    "def DQN_train(agent, env, replay_buffer, n_games=1000, perf_interval=100, batch_size=1000):\n",
    "    performances_crosses = []\n",
    "    performances_naughts = []\n",
    "\n",
    "    max_epsilon = 0.1\n",
    "    gamma = 1.0\n",
    "    opt = torch.optim.Adam(agent.net.parameters())\n",
    "    loss_function = nn.MSELoss()\n",
    "    agent.net.eval()\n",
    "    for counter in range(n_games):\n",
    "        epsilon = max_epsilon * (n_games - counter) / n_games\n",
    "\n",
    "        env.reset()\n",
    "        state_0 = copy.deepcopy(env.board)\n",
    "        action_0 = agent.get_action_from_board(state_0, epsilon)\n",
    "        observation, reward, done, info = env.step(action_0)\n",
    "        curTurn = env.curTurn\n",
    "        state_1 = copy.deepcopy(env.board) * curTurn\n",
    "        while not done:\n",
    "            action_1 = agent.get_action_from_board(state_1, epsilon)\n",
    "            observation, reward, done, info = env.step(action_1)\n",
    "            curTurn = env.curTurn\n",
    "            next_state = copy.deepcopy(env.board) * curTurn\n",
    "\n",
    "            s, _ = agent.board2matrix(state_0)\n",
    "            next_s, _ = agent.board2matrix(next_state)\n",
    "            replay_buffer.store(s, action_0, reward * curTurn, done, next_s)\n",
    "            \n",
    "            if done: \n",
    "                s, _ = agent.board2matrix(state_1)\n",
    "                replay_buffer.store(s, action_1, -reward * curTurn, done, next_s)\n",
    "                break\n",
    "\n",
    "            state_0 = state_1\n",
    "            state_1 = next_state\n",
    "            action_0 = action_1\n",
    "            \n",
    "        batch = replay_buffer[random.sample(range(len(replay_buffer)), batch_size)]\n",
    "        next_actions = ((batch['next_s'][:, 0, :, :] != 1) & \n",
    "                        (batch['next_s'][:, 1, :, :] != 1)).long()\n",
    "        Q_next = torch.squeeze(agent.net(batch['next_s'])).detach()\n",
    "        V_next = torch.max((Q_next - (1 - next_actions) * 100).reshape(Q_next.shape[0], -1), dim = 1)[0]\n",
    "        y = batch['done'] * batch['r'] + (1 - batch['done']) * V_next.numpy() * gamma\n",
    "        \n",
    "        agent.net.train()\n",
    "        Q = torch.squeeze(agent.net(batch['s']))\n",
    "        a = torch.LongTensor(batch['a'])\n",
    "        y_hat = Q[torch.arange(batch_size), a[:,0], a[:,1]]\n",
    "        \n",
    "        opt.zero_grad()\n",
    "        loss = loss_function(y_hat, torch.tensor(y, dtype=torch.float32))\n",
    "        loss.backward()\n",
    "        opt.step()\n",
    "        agent.net.eval()\n",
    "\n",
    "\n",
    "        if counter % perf_interval == 0:\n",
    "            p, _ = test_perf(env, agent, random_agent)\n",
    "            performances_crosses.append((counter, p))\n",
    "            _, p = test_perf(env, random_agent, agent)\n",
    "            performances_naughts.append((counter, p))\n",
    "\n",
    "    return performances_crosses, performances_naughts"
   ]
  },
  {
   "cell_type": "code",
   "execution_count": 27,
   "metadata": {},
   "outputs": [],
   "source": [
    "performances_crosses, performances_naughts = DQN_train(DQN_agent_333, \n",
    "                                                       env_333, \n",
    "                                                       replay_buffer_333)"
   ]
  },
  {
   "cell_type": "code",
   "execution_count": 28,
   "metadata": {},
   "outputs": [
    {
     "data": {
      "image/png": "[encoded data removed]",
      "text/plain": [
       "<Figure size 432x288 with 1 Axes>"
      ]
     },
     "metadata": {
      "needs_background": "light"
     },
     "output_type": "display_data"
    }
   ],
   "source": [
    "plot_results(performances_crosses, performances_naughts)"
   ]
  },
  {
   "cell_type": "code",
   "execution_count": 29,
   "metadata": {},
   "outputs": [
    {
     "name": "stdout",
     "output_type": "stream",
     "text": [
      "(0.948, 0.03)\n",
      "(0.129, 0.737)\n",
      "(0.0, 0.0)\n"
     ]
    }
   ],
   "source": [
    "print(test_perf(env_333, DQN_agent_333, random_agent))\n",
    "print(test_perf(env_333, random_agent, DQN_agent_333))\n",
    "print(test_perf(env_333, DQN_agent_333, DQN_agent_333))"
   ]
  },
  {
   "cell_type": "code",
   "execution_count": 30,
   "metadata": {},
   "outputs": [
    {
     "name": "stdout",
     "output_type": "stream",
     "text": [
      "(0.0, 0.0)\n",
      "(1.0, 0.0)\n"
     ]
    }
   ],
   "source": [
    "print(test_perf(env_333, DQN_agent_333, QL_agent_333))\n",
    "print(test_perf(env_333, QL_agent_333, DQN_agent_333))"
   ]
  },
  {
   "cell_type": "markdown",
   "metadata": {},
   "source": [
    "### DQN 4x4x4"
   ]
  },
  {
   "cell_type": "code",
   "execution_count": 31,
   "metadata": {},
   "outputs": [],
   "source": [
    "replay_buffer_444 = ReplayBufferSet(10000, env_444)"
   ]
  },
  {
   "cell_type": "code",
   "execution_count": 32,
   "metadata": {},
   "outputs": [],
   "source": [
    "DQN_agent_444 = DQNAgent(env_444)"
   ]
  },
  {
   "cell_type": "code",
   "execution_count": 33,
   "metadata": {},
   "outputs": [],
   "source": [
    "performances_crosses, performances_naughts = DQN_train(DQN_agent_444, \n",
    "                                                       env_444, \n",
    "                                                       replay_buffer_444)"
   ]
  },
  {
   "cell_type": "code",
   "execution_count": 34,
   "metadata": {},
   "outputs": [
    {
     "data": {
      "image/png": "[encoded data removed]",
      "text/plain": [
       "<Figure size 432x288 with 1 Axes>"
      ]
     },
     "metadata": {
      "needs_background": "light"
     },
     "output_type": "display_data"
    }
   ],
   "source": [
    "plot_results(performances_crosses, performances_naughts)"
   ]
  },
  {
   "cell_type": "code",
   "execution_count": 35,
   "metadata": {},
   "outputs": [
    {
     "name": "stdout",
     "output_type": "stream",
     "text": [
      "(0.829, 0.047)\n",
      "(0.064, 0.671)\n",
      "(0.0, 0.0)\n"
     ]
    }
   ],
   "source": [
    "print(test_perf(env_444, DQN_agent_444, random_agent))\n",
    "print(test_perf(env_444, random_agent, DQN_agent_444))\n",
    "print(test_perf(env_444, DQN_agent_444, DQN_agent_444))"
   ]
  },
  {
   "cell_type": "code",
   "execution_count": 36,
   "metadata": {},
   "outputs": [
    {
     "name": "stdout",
     "output_type": "stream",
     "text": [
      "(1.0, 0.0)\n",
      "(0.0, 1.0)\n"
     ]
    }
   ],
   "source": [
    "print(test_perf(env_444, DQN_agent_444, QL_agent_444))\n",
    "print(test_perf(env_444, QL_agent_444, DQN_agent_444))"
   ]
  },
  {
   "cell_type": "markdown",
   "metadata": {},
   "source": [
    "### DQN 5x5x5"
   ]
  },
  {
   "cell_type": "code",
   "execution_count": 37,
   "metadata": {},
   "outputs": [],
   "source": [
    "env_555 = TicTacToe(n_rows=5, n_cols=5, n_win=5)\n",
    "replay_buffer_555 = ReplayBufferSet(10000, env_555)\n",
    "DQN_agent_555 = DQNAgent(env_555)"
   ]
  },
  {
   "cell_type": "code",
   "execution_count": 38,
   "metadata": {},
   "outputs": [
    {
     "data": {
      "image/png": "[encoded data removed]",
      "text/plain": [
       "<Figure size 432x288 with 1 Axes>"
      ]
     },
     "metadata": {
      "needs_background": "light"
     },
     "output_type": "display_data"
    }
   ],
   "source": [
    "performances_crosses, performances_naughts = DQN_train(DQN_agent_555, \n",
    "                                                       env_555, \n",
    "                                                       replay_buffer_555,\n",
    "                                                       n_games=10000, \n",
    "                                                       perf_interval=1000\n",
    "                                                      )\n",
    "plot_results(performances_crosses, performances_naughts)"
   ]
  },
  {
   "cell_type": "code",
   "execution_count": 39,
   "metadata": {},
   "outputs": [
    {
     "name": "stdout",
     "output_type": "stream",
     "text": [
      "(0.511, 0.068)\n",
      "(0.12, 0.421)\n",
      "(1.0, 0.0)\n"
     ]
    }
   ],
   "source": [
    "print(test_perf(env_555, DQN_agent_555, random_agent))\n",
    "print(test_perf(env_555, random_agent, DQN_agent_555))\n",
    "print(test_perf(env_555, DQN_agent_555, DQN_agent_555))"
   ]
  },
  {
   "cell_type": "markdown",
   "metadata": {},
   "source": [
    "### Double DQN"
   ]
  },
  {
   "cell_type": "code",
   "execution_count": 40,
   "metadata": {},
   "outputs": [],
   "source": [
    "class DoubleQNAgent(object):\n",
    "    def __init__(self, environment):\n",
    "        self.index_best_action = False\n",
    "        self.net_a = Conv3net()\n",
    "        self.net_b = Conv3net()\n",
    "        self.env = environment\n",
    "        \n",
    "    def board2matrix(self, board):\n",
    "        crosses = torch.FloatTensor(board == 1)\n",
    "        naughts = torch.FloatTensor(board == -1)\n",
    "        actions = torch.FloatTensor(board == 0)\n",
    "        m = torch.stack((crosses, naughts))\n",
    "        return m, actions\n",
    "\n",
    "    # epsilon-greedy action\n",
    "    def get_action_from_board(self, board, epsilon, update=0):\n",
    "        if np.random.random() > epsilon:\n",
    "            m, actions = self.board2matrix(board)\n",
    "            if update == 1:\n",
    "                r = torch.squeeze(self.net_a(torch.unsqueeze(m, 0)))\n",
    "            elif update == -1:\n",
    "                r = torch.squeeze(self.net_b(torch.unsqueeze(m, 0)))\n",
    "            else:\n",
    "                r = (torch.squeeze(self.net_a(torch.unsqueeze(m, 0))) +\n",
    "                     torch.squeeze(self.net_b(torch.unsqueeze(m, 0)))) / 2.\n",
    "            idx = torch.argmax(r - (1 - actions) * 100)\n",
    "            return self.env.action_from_int(idx)\n",
    "        else:\n",
    "            r, c = np.where(board == 0)\n",
    "            r_idx = np.random.randint(len(r))\n",
    "            return r[r_idx], c[r_idx]\n",
    "        \n",
    "    def get_best_action(self, s):\n",
    "        board = np.array([float(n) for n in s]).reshape(\n",
    "            (self.env.n_rows, self.env.n_cols))\n",
    "        m, actions = self.board2matrix(board - 1)\n",
    "        r = (torch.squeeze(self.net_a(torch.unsqueeze(m, 0))) +\n",
    "             torch.squeeze(self.net_b(torch.unsqueeze(m, 0)))) / 2.\n",
    "        idx = torch.argmax(r - (1 - actions) * 100)\n",
    "        return self.env.action_from_int(idx)"
   ]
  },
  {
   "cell_type": "code",
   "execution_count": 41,
   "metadata": {},
   "outputs": [],
   "source": [
    "double_agent_333 = DoubleQNAgent(env_333)"
   ]
  },
  {
   "cell_type": "code",
   "execution_count": 42,
   "metadata": {},
   "outputs": [],
   "source": [
    "def double_QN_train(agent, env, replay_buffer, n_games=1000, perf_interval=100, batch_size=100):\n",
    "    performances_crosses = []\n",
    "    performances_naughts = []\n",
    "\n",
    "    max_epsilon = 0.1\n",
    "    gamma = 1.0\n",
    "    opt_a = torch.optim.Adam(agent.net_a.parameters())\n",
    "    opt_b = torch.optim.Adam(agent.net_b.parameters())\n",
    "    loss_function = nn.MSELoss()\n",
    "    agent.net_a.eval()\n",
    "    agent.net_b.eval()\n",
    "    for counter in range(n_games):\n",
    "        epsilon = max_epsilon * (n_games - counter) / n_games\n",
    "\n",
    "        env.reset()\n",
    "        state_0 = copy.deepcopy(env.board)\n",
    "        action_0 = agent.get_action_from_board(state_0, epsilon)\n",
    "        observation, reward, done, info = env.step(action_0)\n",
    "        curTurn = env.curTurn\n",
    "        state_1 = copy.deepcopy(env.board) * curTurn\n",
    "        while not done:\n",
    "            action_1 = agent.get_action_from_board(state_1, epsilon)\n",
    "            observation, reward, done, info = env.step(action_1)\n",
    "            curTurn = env.curTurn\n",
    "            next_state = copy.deepcopy(env.board) * curTurn\n",
    "\n",
    "            s, _ = agent.board2matrix(state_0)\n",
    "            next_s, _ = agent.board2matrix(next_state)\n",
    "            replay_buffer.store(s, action_0, reward * curTurn, done, next_s)\n",
    "            \n",
    "            if done: \n",
    "                s, _ = agent.board2matrix(state_1)\n",
    "                replay_buffer.store(s, action_1, -reward * curTurn, done, next_s)\n",
    "                break\n",
    "\n",
    "            state_0 = state_1\n",
    "            state_1 = next_state\n",
    "            action_0 = action_1\n",
    "            \n",
    "        batch = replay_buffer[random.sample(range(len(replay_buffer)), batch_size)]\n",
    "        next_actions = ((batch['next_s'][:, 0, :, :] != 1) & \n",
    "                        (batch['next_s'][:, 1, :, :] != 1)).long()\n",
    "\n",
    "        if np.random.random() > 0.5:\n",
    "            Q_next = torch.squeeze(agent.net_b(batch['next_s'])).detach()\n",
    "            V_next = torch.max((Q_next - (1 - next_actions) * 100).reshape(\n",
    "                Q_next.shape[0], -1), dim = 1)[0]\n",
    "            y = batch['done'] * batch['r'] +\\\n",
    "                (1 - batch['done']) * V_next.numpy() * gamma\n",
    "\n",
    "            agent.net_a.train()\n",
    "            Q = torch.squeeze(agent.net_a(batch['s']))\n",
    "            a = torch.LongTensor(batch['a'])\n",
    "            y_hat = Q[torch.arange(batch_size), a[:,0], a[:,1]]\n",
    "            opt_a.zero_grad()\n",
    "            loss = loss_function(y_hat, torch.tensor(y, dtype=torch.float32))\n",
    "            loss.backward()\n",
    "            opt_a.step()\n",
    "            agent.net_a.eval()\n",
    "        else:\n",
    "            Q_next = torch.squeeze(agent.net_a(batch['next_s'])).detach()\n",
    "            V_next = torch.max((Q_next - (1 - next_actions) * 100).reshape(\n",
    "                Q_next.shape[0], -1), dim = 1)[0]\n",
    "            y = batch['done'] * batch['r'] +\\\n",
    "                (1 - batch['done']) * V_next.numpy() * gamma\n",
    "            agent.net_b.train()\n",
    "            Q = torch.squeeze(agent.net_b(batch['s']))\n",
    "            a = torch.LongTensor(batch['a'])\n",
    "            y_hat = Q[torch.arange(batch_size), a[:,0], a[:,1]]\n",
    "            opt_b.zero_grad()\n",
    "            loss = loss_function(y_hat, torch.tensor(y, dtype=torch.float32))\n",
    "            loss.backward()\n",
    "            opt_b.step()\n",
    "            agent.net_b.eval()\n",
    "\n",
    "        if counter % perf_interval == 0:\n",
    "            p, _ = test_perf(env, agent, random_agent)\n",
    "            performances_crosses.append((counter, p))\n",
    "            _, p = test_perf(env, random_agent, agent)\n",
    "            performances_naughts.append((counter, p))\n",
    "\n",
    "    return performances_crosses, performances_naughts"
   ]
  },
  {
   "cell_type": "code",
   "execution_count": 43,
   "metadata": {},
   "outputs": [
    {
     "data": {
      "image/png": "[encoded data removed]",
      "text/plain": [
       "<Figure size 432x288 with 1 Axes>"
      ]
     },
     "metadata": {
      "needs_background": "light"
     },
     "output_type": "display_data"
    }
   ],
   "source": [
    "replay_buffer_333 = ReplayBufferSet(10000, env_333)\n",
    "performances_crosses, performances_naughts = double_QN_train(double_agent_333, \n",
    "                                                       env_333, \n",
    "                                                       replay_buffer_333\n",
    "                                                      )\n",
    "plot_results(performances_crosses, performances_naughts)"
   ]
  },
  {
   "cell_type": "code",
   "execution_count": 44,
   "metadata": {},
   "outputs": [
    {
     "name": "stdout",
     "output_type": "stream",
     "text": [
      "(0.917, 0.011)\n",
      "(0.193, 0.733)\n",
      "(1.0, 0.0)\n"
     ]
    }
   ],
   "source": [
    "print(test_perf(env_333, double_agent_333, random_agent))\n",
    "print(test_perf(env_333, random_agent, double_agent_333))\n",
    "print(test_perf(env_333, double_agent_333, double_agent_333))"
   ]
  },
  {
   "cell_type": "code",
   "execution_count": 45,
   "metadata": {},
   "outputs": [
    {
     "name": "stdout",
     "output_type": "stream",
     "text": [
      "(0.0, 0.0)\n",
      "(1.0, 0.0)\n"
     ]
    }
   ],
   "source": [
    "print(test_perf(env_333, double_agent_333, QL_agent_333))\n",
    "print(test_perf(env_333, QL_agent_333, double_agent_333))"
   ]
  },
  {
   "cell_type": "code",
   "execution_count": 46,
   "metadata": {},
   "outputs": [
    {
     "name": "stdout",
     "output_type": "stream",
     "text": [
      "(1.0, 0.0)\n",
      "(0.0, 0.0)\n"
     ]
    }
   ],
   "source": [
    "print(test_perf(env_333, DQN_agent_333, double_agent_333))\n",
    "print(test_perf(env_333, double_agent_333, DQN_agent_333))"
   ]
  },
  {
   "cell_type": "markdown",
   "metadata": {},
   "source": [
    "### Double DQN 4x4x4"
   ]
  },
  {
   "cell_type": "code",
   "execution_count": 47,
   "metadata": {},
   "outputs": [],
   "source": [
    "replay_buffer_444 = ReplayBufferSet(10000, env_444)\n",
    "double_agent_444 = DoubleQNAgent(env_444)"
   ]
  },
  {
   "cell_type": "code",
   "execution_count": 48,
   "metadata": {},
   "outputs": [
    {
     "data": {
      "image/png": "[encoded data removed]",
      "text/plain": [
       "<Figure size 432x288 with 1 Axes>"
      ]
     },
     "metadata": {
      "needs_background": "light"
     },
     "output_type": "display_data"
    }
   ],
   "source": [
    "performances_crosses, performances_naughts = double_QN_train(double_agent_444, \n",
    "                                                       env_444, \n",
    "                                                       replay_buffer_444\n",
    "                                                      )\n",
    "plot_results(performances_crosses, performances_naughts)"
   ]
  },
  {
   "cell_type": "code",
   "execution_count": 49,
   "metadata": {},
   "outputs": [
    {
     "name": "stdout",
     "output_type": "stream",
     "text": [
      "(0.817, 0.079)\n",
      "(0.119, 0.693)\n",
      "(0.0, 1.0)\n"
     ]
    }
   ],
   "source": [
    "print(test_perf(env_444, double_agent_444, random_agent))\n",
    "print(test_perf(env_444, random_agent, double_agent_444))\n",
    "print(test_perf(env_444, double_agent_444, double_agent_444))"
   ]
  },
  {
   "cell_type": "code",
   "execution_count": 50,
   "metadata": {},
   "outputs": [
    {
     "name": "stdout",
     "output_type": "stream",
     "text": [
      "(0.0, 0.0)\n",
      "(1.0, 0.0)\n"
     ]
    }
   ],
   "source": [
    "print(test_perf(env_444, double_agent_444, QL_agent_444))\n",
    "print(test_perf(env_444, QL_agent_444, double_agent_444))"
   ]
  },
  {
   "cell_type": "code",
   "execution_count": 51,
   "metadata": {},
   "outputs": [
    {
     "name": "stdout",
     "output_type": "stream",
     "text": [
      "(1.0, 0.0)\n",
      "(0.0, 1.0)\n"
     ]
    }
   ],
   "source": [
    "print(test_perf(env_444, DQN_agent_444, double_agent_444))\n",
    "print(test_perf(env_444, double_agent_444, DQN_agent_444))"
   ]
  },
  {
   "cell_type": "markdown",
   "metadata": {},
   "source": [
    "### Double DQN 5x5x5"
   ]
  },
  {
   "cell_type": "code",
   "execution_count": 52,
   "metadata": {},
   "outputs": [],
   "source": [
    "replay_buffer_555 = ReplayBufferSet(10000, env_555)\n",
    "double_agent_555 = DoubleQNAgent(env_555)"
   ]
  },
  {
   "cell_type": "code",
   "execution_count": 53,
   "metadata": {},
   "outputs": [
    {
     "data": {
      "image/png": "[encoded data removed]",
      "text/plain": [
       "<Figure size 432x288 with 1 Axes>"
      ]
     },
     "metadata": {
      "needs_background": "light"
     },
     "output_type": "display_data"
    }
   ],
   "source": [
    "performances_crosses, performances_naughts = double_QN_train(double_agent_555, \n",
    "                                                       env_555, \n",
    "                                                       replay_buffer_555,\n",
    "                                                       n_games=10000, \n",
    "                                                       perf_interval=1000\n",
    "                                                      )\n",
    "plot_results(performances_crosses, performances_naughts)"
   ]
  },
  {
   "cell_type": "code",
   "execution_count": 54,
   "metadata": {},
   "outputs": [
    {
     "name": "stdout",
     "output_type": "stream",
     "text": [
      "(0.835, 0.015)\n",
      "(0.059, 0.74)\n",
      "(0.0, 0.0)\n"
     ]
    }
   ],
   "source": [
    "print(test_perf(env_555, double_agent_555, random_agent))\n",
    "print(test_perf(env_555, random_agent, double_agent_555))\n",
    "print(test_perf(env_555, double_agent_555, double_agent_555))"
   ]
  },
  {
   "cell_type": "code",
   "execution_count": 55,
   "metadata": {},
   "outputs": [
    {
     "name": "stdout",
     "output_type": "stream",
     "text": [
      "(0.0, 0.0)\n",
      "(0.0, 0.0)\n"
     ]
    }
   ],
   "source": [
    "print(test_perf(env_555, DQN_agent_555, double_agent_555))\n",
    "print(test_perf(env_555, double_agent_555, DQN_agent_555))"
   ]
  },
  {
   "cell_type": "markdown",
   "metadata": {},
   "source": [
    "### Часть третья: расширим и углубим поиск\n",
    "Крестики-нолики -- это, конечно, далеко не го, и обычный альфа-бета поиск с отсечением здесь наверняка может работать идеально вплоть до довольно больших досок. Однако мы всё-таки для этого учебного задания будем реализовывать более практически релевантный метод MCTS -- заодно фактически получится и упражнение на многоруких бандитов.\n",
    "\n",
    "5.\tРеализуйте rollouts со случайной стратегией и (опционально) rollouts с неслучайной, но простой стратегией (например, основанной на дополнении нескольких паттернов или на Q-функции, которая у вас получилась в первом пункте).\n",
    "6.\tРеализуйте MCTS-поиск с этими rollouts для крестиков-ноликов на досках разного размера, сравните полученные стратегии между собой и со стратегиями, обученными в первых двух частях.\n"
   ]
  },
  {
   "cell_type": "code",
   "execution_count": 56,
   "metadata": {},
   "outputs": [],
   "source": [
    "class MCTSTreeNode(object):\n",
    "\n",
    "    def __init__(self, env, board, parent=None):\n",
    "        self.state_env = TicTacToe(env.n_rows, env.n_cols, env.n_win)\n",
    "        self.state_env.board = copy.deepcopy(board)\n",
    "        self.state_env.isTerminal()\n",
    "        self.parent = parent\n",
    "        self.children = []\n",
    "        self.n = 0\n",
    "        self.q = 0\n",
    "        self.actions = list(self.state_env.getEmptySpaces())\n",
    "\n",
    "    def best_child(self, c_param=1):\n",
    "        choices_weights = [\n",
    "            (-c.q / c.n) + \n",
    "                c_param * np.sqrt((2 * np.log(self.n) / c.n))\n",
    "            for c in self.children\n",
    "        ]\n",
    "        return np.argmax(choices_weights)\n",
    "\n",
    "    def expand(self):\n",
    "        action = self.actions.pop(0)\n",
    "        next_board = copy.deepcopy(self.state_env.board)\n",
    "        next_board[action[0], action[1]] = self.state_env.curTurn\n",
    "        child_node = MCTSTreeNode(self.state_env, next_board, parent=self)\n",
    "        child_node.state_env.curTurn = -self.state_env.curTurn\n",
    "        self.children.append(child_node)\n",
    "        return child_node\n",
    "\n",
    "    def rollout(self):\n",
    "        rollout_env = TicTacToe(self.state_env.n_rows, \n",
    "                                self.state_env.n_cols, \n",
    "                                self.state_env.n_win)\n",
    "        rollout_env.board = copy.deepcopy(self.state_env.board)\n",
    "        rollout_env.curTurn = self.state_env.curTurn\n",
    "        reward = rollout_env.isTerminal()\n",
    "        done = rollout_env.gameOver\n",
    "        random_actions = list(np.random.permutation(rollout_env.getEmptySpaces()))\n",
    "        while not done:\n",
    "            action = random_actions.pop()\n",
    "            observation, reward, done, info = rollout_env.step(action)\n",
    "        return reward * self.state_env.curTurn\n",
    "\n",
    "    def backprop(self, result):\n",
    "        self.n += 1.\n",
    "        self.q += result\n",
    "        if self.parent:\n",
    "            self.parent.backprop(-result)"
   ]
  },
  {
   "cell_type": "code",
   "execution_count": 57,
   "metadata": {},
   "outputs": [],
   "source": [
    "class MCTSAgent(object):\n",
    "    def __init__(self, environment, n_simulations):\n",
    "        self.index_best_action = True\n",
    "        self.env = environment\n",
    "        self.n_simulations = n_simulations\n",
    "        \n",
    "    def get_best_action(self, s, n_actions):\n",
    "        board = np.array([float(n) for n in s]).reshape(\n",
    "            (self.env.n_rows, self.env.n_cols)) - 1\n",
    "        \n",
    "        tree_root = MCTSTreeNode(self.env, board)\n",
    " \n",
    "        for _ in range(self.n_simulations):            \n",
    "            v = tree_root\n",
    "            while not v.state_env.gameOver:\n",
    "                if len(v.actions) > 0:\n",
    "                    v = v.expand()\n",
    "                else:\n",
    "                    v = v.children[v.best_child()]\n",
    "            reward = v.rollout()\n",
    "            v.backprop(reward)\n",
    "        return tree_root.best_child(c_param=0)"
   ]
  },
  {
   "cell_type": "markdown",
   "metadata": {},
   "source": [
    "### Доска 3x3x3"
   ]
  },
  {
   "cell_type": "code",
   "execution_count": 58,
   "metadata": {},
   "outputs": [],
   "source": [
    "MCTS_agent_333 = MCTSAgent(env_333, n_simulations=100)"
   ]
  },
  {
   "cell_type": "code",
   "execution_count": 59,
   "metadata": {},
   "outputs": [
    {
     "name": "stdout",
     "output_type": "stream",
     "text": [
      "(0.974, 0.0)\n",
      "(0.317, 0.606)\n",
      "(1.0, 0.0)\n"
     ]
    }
   ],
   "source": [
    "print(test_perf(env_333, MCTS_agent_333, random_agent))\n",
    "print(test_perf(env_333, random_agent, MCTS_agent_333))\n",
    "print(test_perf(env_333, MCTS_agent_333, MCTS_agent_333))"
   ]
  },
  {
   "cell_type": "markdown",
   "metadata": {},
   "source": [
    "#### Сравниваем с агентами из предыдущих пунктов"
   ]
  },
  {
   "cell_type": "code",
   "execution_count": 60,
   "metadata": {},
   "outputs": [
    {
     "name": "stdout",
     "output_type": "stream",
     "text": [
      "(0.259, 0.0)\n",
      "(0.952, 0.0)\n"
     ]
    }
   ],
   "source": [
    "print(test_perf(env_333, MCTS_agent_333, QL_agent_333))\n",
    "print(test_perf(env_333, QL_agent_333, MCTS_agent_333))"
   ]
  },
  {
   "cell_type": "code",
   "execution_count": 61,
   "metadata": {},
   "outputs": [
    {
     "name": "stdout",
     "output_type": "stream",
     "text": [
      "(0.832, 0.0)\n",
      "(0.753, 0.0)\n"
     ]
    }
   ],
   "source": [
    "print(test_perf(env_333, MCTS_agent_333, DQN_agent_333))\n",
    "print(test_perf(env_333, DQN_agent_333, MCTS_agent_333))"
   ]
  },
  {
   "cell_type": "code",
   "execution_count": 62,
   "metadata": {},
   "outputs": [
    {
     "name": "stdout",
     "output_type": "stream",
     "text": [
      "(0.145, 0.0)\n",
      "(1.0, 0.0)\n"
     ]
    }
   ],
   "source": [
    "print(test_perf(env_333, MCTS_agent_333, double_agent_333))\n",
    "print(test_perf(env_333, double_agent_333, MCTS_agent_333))"
   ]
  },
  {
   "cell_type": "markdown",
   "metadata": {},
   "source": [
    "### Доска 4x4x4"
   ]
  },
  {
   "cell_type": "code",
   "execution_count": 63,
   "metadata": {},
   "outputs": [
    {
     "name": "stdout",
     "output_type": "stream",
     "text": [
      "(0.895, 0.041)\n",
      "(0.005, 0.77)\n",
      "(0.086, 0.756)\n"
     ]
    }
   ],
   "source": [
    "MCTS_agent_444 = MCTSAgent(env_444, n_simulations=100)\n",
    "print(test_perf(env_444, MCTS_agent_444, random_agent))\n",
    "print(test_perf(env_444, random_agent, MCTS_agent_444))\n",
    "print(test_perf(env_444, MCTS_agent_444, MCTS_agent_444))"
   ]
  },
  {
   "cell_type": "markdown",
   "metadata": {},
   "source": [
    "#### Сравниваем с агентами из предыдущих пунктов"
   ]
  },
  {
   "cell_type": "code",
   "execution_count": 64,
   "metadata": {},
   "outputs": [
    {
     "name": "stdout",
     "output_type": "stream",
     "text": [
      "(0.815, 0.125)\n",
      "(0.0, 0.803)\n"
     ]
    }
   ],
   "source": [
    "print(test_perf(env_444, MCTS_agent_444, QL_agent_444))\n",
    "print(test_perf(env_444, QL_agent_444, MCTS_agent_444))"
   ]
  },
  {
   "cell_type": "code",
   "execution_count": 65,
   "metadata": {},
   "outputs": [
    {
     "name": "stdout",
     "output_type": "stream",
     "text": [
      "(0.522, 0.421)\n",
      "(0.002, 0.44)\n"
     ]
    }
   ],
   "source": [
    "print(test_perf(env_444, MCTS_agent_444, DQN_agent_444))\n",
    "print(test_perf(env_444, DQN_agent_444, MCTS_agent_444))"
   ]
  },
  {
   "cell_type": "code",
   "execution_count": 66,
   "metadata": {},
   "outputs": [
    {
     "name": "stdout",
     "output_type": "stream",
     "text": [
      "(0.808, 0.188)\n",
      "(0.0, 0.96)\n"
     ]
    }
   ],
   "source": [
    "print(test_perf(env_444, MCTS_agent_444, double_agent_444))\n",
    "print(test_perf(env_444, double_agent_444, MCTS_agent_444))"
   ]
  },
  {
   "cell_type": "markdown",
   "metadata": {},
   "source": [
    "### Доска 5x5x5"
   ]
  },
  {
   "cell_type": "code",
   "execution_count": 67,
   "metadata": {},
   "outputs": [
    {
     "name": "stdout",
     "output_type": "stream",
     "text": [
      "(0.91, 0.0)\n",
      "(0.053, 0.854)\n",
      "(1.0, 0.0)\n"
     ]
    }
   ],
   "source": [
    "MCTS_agent_555 = MCTSAgent(env_555, n_simulations=100)\n",
    "print(test_perf(env_555, MCTS_agent_555, random_agent))\n",
    "print(test_perf(env_555, random_agent, MCTS_agent_555))\n",
    "print(test_perf(env_555, MCTS_agent_555, MCTS_agent_555))"
   ]
  },
  {
   "cell_type": "markdown",
   "metadata": {},
   "source": [
    "#### Сравниваем с агентами из предыдущих пунктов"
   ]
  },
  {
   "cell_type": "code",
   "execution_count": 68,
   "metadata": {},
   "outputs": [
    {
     "name": "stdout",
     "output_type": "stream",
     "text": [
      "(1.0, 0.0)\n",
      "(0.0, 1.0)\n"
     ]
    }
   ],
   "source": [
    "print(test_perf(env_555, MCTS_agent_555, DQN_agent_555))\n",
    "print(test_perf(env_555, DQN_agent_555, MCTS_agent_555))"
   ]
  },
  {
   "cell_type": "code",
   "execution_count": 69,
   "metadata": {},
   "outputs": [
    {
     "name": "stdout",
     "output_type": "stream",
     "text": [
      "(0.891, 0.009)\n",
      "(1.0, 0.0)\n"
     ]
    }
   ],
   "source": [
    "print(test_perf(env_555, MCTS_agent_555, double_agent_555))\n",
    "print(test_perf(env_555, double_agent_555, MCTS_agent_555))"
   ]
  },
  {
   "cell_type": "code",
   "execution_count": null,
   "metadata": {},
   "outputs": [],
   "source": []
  },
  {
   "cell_type": "code",
   "execution_count": null,
   "metadata": {},
   "outputs": [],
   "source": []
  },
  {
   "cell_type": "code",
   "execution_count": null,
   "metadata": {},
   "outputs": [],
   "source": []
  },
  {
   "cell_type": "code",
   "execution_count": null,
   "metadata": {},
   "outputs": [],
   "source": []
  }
 ],
 "metadata": {
  "kernelspec": {
   "display_name": "Python 3",
   "language": "python",
   "name": "python3"
  },
  "language_info": {
   "codemirror_mode": {
    "name": "ipython",
    "version": 3
   },
   "file_extension": ".py",
   "mimetype": "text/x-python",
   "name": "python",
   "nbconvert_exporter": "python",
   "pygments_lexer": "ipython3",
   "version": "3.7.8"
  }
 },
 "nbformat": 4,
 "nbformat_minor": 4
}
